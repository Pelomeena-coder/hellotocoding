{
 "cells": [
  {
   "cell_type": "code",
   "execution_count": 4,
   "id": "f7c3b8a3",
   "metadata": {},
   "outputs": [
    {
     "name": "stdout",
     "output_type": "stream",
     "text": [
      "Invalid operation.\n",
      "Result of 10 % 5 = None\n"
     ]
    }
   ],
   "source": [
    "class MathTutor:\n",
    "    def __init__(self):\n",
    "        self.operations = {\n",
    "            '+': lambda a, b: a + b,\n",
    "            '-': lambda a, b: a - b,\n",
    "            '*': lambda a, b: a * b,\n",
    "            '/': lambda a, b: a / b,\n",
    "        }\n",
    "\n",
    "    def explain_operation(self, operator):\n",
    "        explanation = {\n",
    "            '+': \"Addition adds two numbers together.\",\n",
    "            '-': \"Subtraction subtracts the second number from the first.\",\n",
    "            '*': \"Multiplication gives the product of two numbers.\",\n",
    "            '/': \"Division divides the first number by the second.\",\n",
    "        }\n",
    "        return explanation.get(operator, \"Invalid operation.\")\n",
    "\n",
    "    def perform_operation(self, operator, a, b):\n",
    "        if operator in self.operations:\n",
    "            return self.operations[operator](a, b)\n",
    "        else:\n",
    "            return None\n",
    "\n",
    "if __name__ == \"__main__\":\n",
    "    tutor = MathTutor()\n",
    "\n",
    "    # Example usage:\n",
    "    operator = '+'\n",
    "    a, b = 10, 5\n",
    "    print(tutor.explain_operation(operator))\n",
    "    \n",
    "    result = tutor.perform_operation(operator, a, b)\n",
    "    \n",
    "    print(f\"Result of {a} {operator} {b} = {result}\")\n"
   ]
  },
  {
   "cell_type": "code",
   "execution_count": null,
   "id": "133e0118",
   "metadata": {},
   "outputs": [],
   "source": []
  },
  {
   "cell_type": "code",
   "execution_count": null,
   "id": "7551174c",
   "metadata": {},
   "outputs": [],
   "source": []
  },
  {
   "cell_type": "code",
   "execution_count": null,
   "id": "f535d327",
   "metadata": {},
   "outputs": [],
   "source": []
  },
  {
   "cell_type": "code",
   "execution_count": null,
   "id": "ccb3a985",
   "metadata": {},
   "outputs": [],
   "source": []
  },
  {
   "cell_type": "code",
   "execution_count": null,
   "id": "d04ec830",
   "metadata": {},
   "outputs": [],
   "source": []
  },
  {
   "cell_type": "code",
   "execution_count": null,
   "id": "a69323fa",
   "metadata": {},
   "outputs": [],
   "source": []
  },
  {
   "cell_type": "code",
   "execution_count": null,
   "id": "21e37def",
   "metadata": {},
   "outputs": [],
   "source": []
  },
  {
   "cell_type": "code",
   "execution_count": null,
   "id": "686fb81b",
   "metadata": {},
   "outputs": [],
   "source": []
  },
  {
   "cell_type": "code",
   "execution_count": null,
   "id": "c5262bdc",
   "metadata": {},
   "outputs": [],
   "source": []
  },
  {
   "cell_type": "code",
   "execution_count": null,
   "id": "a12a87dc",
   "metadata": {},
   "outputs": [],
   "source": []
  },
  {
   "cell_type": "code",
   "execution_count": null,
   "id": "4710576b",
   "metadata": {},
   "outputs": [],
   "source": []
  },
  {
   "cell_type": "code",
   "execution_count": null,
   "id": "97d999b5",
   "metadata": {},
   "outputs": [],
   "source": []
  },
  {
   "cell_type": "code",
   "execution_count": null,
   "id": "341cfb87",
   "metadata": {},
   "outputs": [],
   "source": []
  },
  {
   "cell_type": "code",
   "execution_count": null,
   "id": "57f7a19d",
   "metadata": {},
   "outputs": [],
   "source": []
  },
  {
   "cell_type": "code",
   "execution_count": null,
   "id": "2a8af921",
   "metadata": {},
   "outputs": [],
   "source": []
  },
  {
   "cell_type": "code",
   "execution_count": null,
   "id": "84b484c8",
   "metadata": {},
   "outputs": [],
   "source": []
  },
  {
   "cell_type": "code",
   "execution_count": null,
   "id": "dbd22b41",
   "metadata": {},
   "outputs": [],
   "source": []
  },
  {
   "cell_type": "code",
   "execution_count": null,
   "id": "8fa64005",
   "metadata": {},
   "outputs": [],
   "source": []
  },
  {
   "cell_type": "code",
   "execution_count": null,
   "id": "9840293b",
   "metadata": {},
   "outputs": [],
   "source": []
  },
  {
   "cell_type": "code",
   "execution_count": null,
   "id": "7bdec9d1",
   "metadata": {},
   "outputs": [],
   "source": []
  },
  {
   "cell_type": "code",
   "execution_count": null,
   "id": "7e841d1c",
   "metadata": {},
   "outputs": [],
   "source": []
  },
  {
   "cell_type": "code",
   "execution_count": null,
   "id": "b064f01c",
   "metadata": {},
   "outputs": [],
   "source": []
  },
  {
   "cell_type": "code",
   "execution_count": null,
   "id": "fcbb836b",
   "metadata": {},
   "outputs": [],
   "source": []
  },
  {
   "cell_type": "code",
   "execution_count": null,
   "id": "7c958466",
   "metadata": {},
   "outputs": [],
   "source": []
  },
  {
   "cell_type": "code",
   "execution_count": null,
   "id": "3fcff006",
   "metadata": {},
   "outputs": [],
   "source": []
  },
  {
   "cell_type": "code",
   "execution_count": 9,
   "id": "cadbad64",
   "metadata": {},
   "outputs": [
    {
     "name": "stdout",
     "output_type": "stream",
     "text": [
      "Enter an operator (+, -, *, /): *\n",
      "Enter the first number: 34\n",
      "Enter the second number: 56\n",
      "Multiplication gives the product of two numbers.\n",
      "Result of 34.0 * 56.0 = 1904.0\n"
     ]
    }
   ],
   "source": [
    "class MathTutor:\n",
    "    def __init__(self):\n",
    "        self.operations = {\n",
    "            '+': lambda a, b: a + b,\n",
    "            '-': lambda a, b: a - b,\n",
    "            '*': lambda a, b: a * b,\n",
    "            '/': lambda a, b: a / b,\n",
    "        }\n",
    "\n",
    "    def explain_operation(self, operator):\n",
    "        explanation = {\n",
    "            '+': \"Addition adds two numbers together.\",\n",
    "            '-': \"Subtraction subtracts the second number from the first.\",\n",
    "            '*': \"Multiplication gives the product of two numbers.\",\n",
    "            '/': \"Division divides the first number by the second.\",\n",
    "        }\n",
    "        return explanation.get(operator, \"Invalid operation.\")\n",
    "\n",
    "    def perform_operation(self, operator, a, b):\n",
    "        if operator in self.operations:\n",
    "            return self.operations[operator](a, b)\n",
    "        else:\n",
    "            return None\n",
    "\n",
    "if __name__ == \"__main__\":\n",
    "    tutor = MathTutor()\n",
    "\n",
    "    # Get user input for the operator\n",
    "    operator = input(\"Enter an operator (+, -, *, /): \").strip()\n",
    "    \n",
    "    # Get user input for the numbers\n",
    "    try:\n",
    "        a = float(input(\"Enter the first number: \").strip())\n",
    "        b = float(input(\"Enter the second number: \").strip())\n",
    "        \n",
    "        # Explain the operation\n",
    "        explanation = tutor.explain_operation(operator)\n",
    "        print(explanation)\n",
    "        \n",
    "        # Perform the operation\n",
    "        result = tutor.perform_operation(operator, a, b)\n",
    "        \n",
    "        if result is not None:\n",
    "            print(f\"Result of {a} {operator} {b} = {result}\")\n",
    "        else:\n",
    "            print(\"Invalid operation.\")\n",
    "            \n",
    "    except ValueError:\n",
    "        print(\"Please enter valid numbers.\")\n"
   ]
  },
  {
   "cell_type": "code",
   "execution_count": null,
   "id": "e9641f08",
   "metadata": {},
   "outputs": [],
   "source": []
  }
 ],
 "metadata": {
  "kernelspec": {
   "display_name": "Python 3 (ipykernel)",
   "language": "python",
   "name": "python3"
  },
  "language_info": {
   "codemirror_mode": {
    "name": "ipython",
    "version": 3
   },
   "file_extension": ".py",
   "mimetype": "text/x-python",
   "name": "python",
   "nbconvert_exporter": "python",
   "pygments_lexer": "ipython3",
   "version": "3.9.13"
  }
 },
 "nbformat": 4,
 "nbformat_minor": 5
}
